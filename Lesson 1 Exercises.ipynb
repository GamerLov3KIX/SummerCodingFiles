{
 "cells": [
  {
   "cell_type": "code",
   "execution_count": 29,
   "id": "20eca1c7",
   "metadata": {},
   "outputs": [
    {
     "name": "stdout",
     "output_type": "stream",
     "text": [
      "Michael Morgan\n",
      "MM\n",
      "m m\n",
      "**************\n",
      "*            *\n",
      "*            *\n",
      "*            *\n",
      "*            *\n",
      "*      *\n",
      "**************\n"
     ]
    }
   ],
   "source": [
    "# Optional Exercise\n",
    "\n",
    "# Concatenating my first & last name\n",
    "firstName = \"Michael\"\n",
    "lastName = \" Morgan\"\n",
    "name = firstName + lastName\n",
    "print(name)\n",
    "\n",
    "# Indexing the first letter of my \n",
    "# first and last name, concatenate & print\n",
    "conName = firstName[0] + lastName[1]\n",
    "print(conName)\n",
    "\n",
    "# Initials of my name in lowercase\n",
    "print(firstName[0].lower(), lastName[1].lower())\n",
    "\n",
    "# Printing rectangles with string multiplication\n",
    "star = '* '\n",
    "print(star[0] * 14)\n",
    "print(star[0] * 1 + star[1] * 12 + star[0] * 1)\n",
    "print(star[0] * 1 + star[1] * 12 + star[0] * 1)\n",
    "print(star[0] * 1 + star[1] * 12 + star[0] * 1)\n",
    "print(star[0] * 1 + star[1] * 12 + star[0] * 1)\n",
    "print(star[0] * 1 + star[1] * 6 + star[0] * 1)\n",
    "print(star[0] * 14)"
   ]
  },
  {
   "cell_type": "code",
   "execution_count": 30,
   "id": "40097b00",
   "metadata": {
    "scrolled": true
   },
   "outputs": [
    {
     "name": "stdout",
     "output_type": "stream",
     "text": [
      "Enter value for a: 5\n",
      "Enter value for b: 5\n",
      "10\n",
      "0\n",
      "25\n",
      "3125\n",
      "1.0\n"
     ]
    }
   ],
   "source": [
    "# Exercise-1\n",
    "\n",
    "a = int(input('Enter value for a: '))\n",
    "\n",
    "b = int(input('Enter value for b: '))\n",
    "\n",
    "print(a + b)\n",
    "print(a - b)\n",
    "print(a * b)\n",
    "print(a ** b)\n",
    "print(a / b)"
   ]
  },
  {
   "cell_type": "code",
   "execution_count": 31,
   "id": "b0b0c2c3",
   "metadata": {},
   "outputs": [
    {
     "data": {
      "text/plain": [
       "[500, 400, 300, 200, 100]"
      ]
     },
     "execution_count": 31,
     "metadata": {},
     "output_type": "execute_result"
    }
   ],
   "source": [
    "# Exercise-2\n",
    "\n",
    "aList = [100, 200, 300, 400, 500]\n",
    "\n",
    "aList[::-1]"
   ]
  },
  {
   "cell_type": "code",
   "execution_count": 32,
   "id": "086f11d0",
   "metadata": {},
   "outputs": [
    {
     "name": "stdout",
     "output_type": "stream",
     "text": [
      "['My', 'name', 'is', 'Kelly']\n"
     ]
    }
   ],
   "source": [
    "# Exercise-3\n",
    "\n",
    "list1 = [\"M\", \"na\", \"i\", \"Ke\"]\n",
    "list2 = [\"y\", \"me\", \"s\", \"lly\"]\n",
    "\n",
    "newList = [list1[0]+list2[-4], list1[1]+list2[-3],\n",
    "           list1[2]+list2[-2], list1[3]+list2[-1]]\n",
    "\n",
    "print(newList)"
   ]
  },
  {
   "cell_type": "code",
   "execution_count": 33,
   "id": "d370205e",
   "metadata": {
    "scrolled": true
   },
   "outputs": [
    {
     "name": "stdout",
     "output_type": "stream",
     "text": [
      "[8, 45, 11]\n",
      "[12, 14, 23]\n",
      "[89, 45, 78]\n"
     ]
    }
   ],
   "source": [
    "# Exercise-4\n",
    "\n",
    "list = [11, 45, 8, 23, 14, 12, 78, 45, 89]\n",
    "\n",
    "chunk1 = list[0:3][::-1]\n",
    "chunk2 = list[3:6][::-1]\n",
    "chunk3 = list[6:9][::-1]\n",
    "\n",
    "print(chunk1)\n",
    "print(chunk2)\n",
    "print(chunk3)\n"
   ]
  },
  {
   "cell_type": "code",
   "execution_count": null,
   "id": "8f64a847",
   "metadata": {},
   "outputs": [],
   "source": []
  }
 ],
 "metadata": {
  "kernelspec": {
   "display_name": "Python 3 (ipykernel)",
   "language": "python",
   "name": "python3"
  },
  "language_info": {
   "codemirror_mode": {
    "name": "ipython",
    "version": 3
   },
   "file_extension": ".py",
   "mimetype": "text/x-python",
   "name": "python",
   "nbconvert_exporter": "python",
   "pygments_lexer": "ipython3",
   "version": "3.10.4"
  }
 },
 "nbformat": 4,
 "nbformat_minor": 5
}
