{
 "cells": [
  {
   "cell_type": "code",
   "execution_count": 23,
   "id": "27874f43",
   "metadata": {},
   "outputs": [
    {
     "name": "stdout",
     "output_type": "stream",
     "text": [
      "Enter a number to test: 4\n",
      "even\n"
     ]
    }
   ],
   "source": [
    "# Practice Exercise-1 to test even or odd\n",
    "\n",
    "number = int(input(\"Enter a number to test: \"))\n",
    "if number % 2 > 0: \n",
    "    print (\"odd\")\n",
    "else:\n",
    "    print(\"even\")\n"
   ]
  },
  {
   "cell_type": "code",
   "execution_count": 25,
   "id": "30a50ad8",
   "metadata": {},
   "outputs": [
    {
     "name": "stdout",
     "output_type": "stream",
     "text": [
      "Enter a number to test: 4\n",
      "0\n",
      ": even\n",
      "1\n",
      ": odd\n",
      "2\n",
      ": even\n",
      "3\n",
      ": odd\n"
     ]
    }
   ],
   "source": [
    "# Practice Exercise-1 to test even or odd with a for loop\n",
    "\n",
    "for number in range(int(input(\"Enter a number to test: \"))):\n",
    "    print(number)\n",
    "    if number % 2 > 0: \n",
    "        print(\": odd\")\n",
    "    else:\n",
    "        print(\": even\")"
   ]
  },
  {
   "cell_type": "code",
   "execution_count": null,
   "id": "3423cb63",
   "metadata": {},
   "outputs": [],
   "source": [
    "# Exercise-1\n",
    "\n",
    "n = 0\n",
    "while n < 100:\n",
    "    n = n + 1\n",
    "    print(n)"
   ]
  },
  {
   "cell_type": "code",
   "execution_count": null,
   "id": "07e8d053",
   "metadata": {},
   "outputs": [],
   "source": [
    "# Exercise-2\n",
    "\n",
    "for number in range(1, 101):\n",
    "    print(number)"
   ]
  },
  {
   "cell_type": "code",
   "execution_count": 21,
   "id": "5a4d32aa",
   "metadata": {},
   "outputs": [
    {
     "name": "stdout",
     "output_type": "stream",
     "text": [
      "Joe\n",
      "Sarah\n",
      "Mike\n",
      "Jess\n",
      "\n",
      "Matt\n",
      "\n",
      "Greg\n"
     ]
    }
   ],
   "source": [
    "# Exercise-3\n",
    "\n",
    "lst1 = [\"Joe\", \"Sarah\", \"Mike\", \"Jess\", \"\", \"Matt\", \"\", \"Greg\"]\n",
    "\n",
    "for lst2 in lst1:\n",
    "    print(lst2)"
   ]
  },
  {
   "cell_type": "code",
   "execution_count": null,
   "id": "45520dbb",
   "metadata": {},
   "outputs": [],
   "source": []
  }
 ],
 "metadata": {
  "kernelspec": {
   "display_name": "Python 3 (ipykernel)",
   "language": "python",
   "name": "python3"
  },
  "language_info": {
   "codemirror_mode": {
    "name": "ipython",
    "version": 3
   },
   "file_extension": ".py",
   "mimetype": "text/x-python",
   "name": "python",
   "nbconvert_exporter": "python",
   "pygments_lexer": "ipython3",
   "version": "3.10.4"
  }
 },
 "nbformat": 4,
 "nbformat_minor": 5
}
